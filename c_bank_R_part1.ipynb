version https://git-lfs.github.com/spec/v1
oid sha256:c01c092b44549ddb673de518657ff7e9826d62aada89d9f46a28623b60fdf1eb
size 6988769
